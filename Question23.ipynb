{
 "cells": [
  {
   "cell_type": "code",
   "execution_count": null,
   "id": "d45d6012-4e63-482d-a6d8-fe6840179016",
   "metadata": {},
   "outputs": [],
   "source": [
    "Question 23\n",
    "\n",
    "Develop a recursive function tough() that takes two nonnegative integer arguments and outputs a pattern as shown below.\n",
    "Hint: The first argument represents the indentation of the pattern, where the second argument -- always a pattern of\n",
    "2 indicates the number s in the longest line of s in the pattern"
   ]
  },
  {
   "cell_type": "code",
   "execution_count": null,
   "id": "a7552a36-263f-43da-8037-c724cc948331",
   "metadata": {},
   "outputs": [],
   "source": []
  },
  {
   "cell_type": "code",
   "execution_count": 3,
   "id": "b08169cd-eb77-4388-996b-8cf784745225",
   "metadata": {},
   "outputs": [
    {
     "name": "stdout",
     "output_type": "stream",
     "text": [
      "----\n",
      "\n",
      "----\n",
      "*\n",
      "\n",
      "----\n",
      "*\n",
      "**\n",
      " *\n",
      "\n",
      "----\n",
      "*\n",
      "**\n",
      " *\n",
      "***\n",
      " *\n",
      " **\n",
      "  *\n",
      "****\n",
      " *\n",
      " **\n",
      "  *\n",
      " ***\n",
      "  *\n",
      "  **\n",
      "   *\n",
      "\n"
     ]
    }
   ],
   "source": [
    "def tough(indent, stars):\n",
    "    if stars == 0:\n",
    "        return\n",
    "    tough(indent, stars - 1) \n",
    "    print(\" \" * indent + \"*\" * stars)\n",
    "    tough(indent + 1, stars - 1)\n",
    "\n",
    "def f(indent, stars):\n",
    "    tough(indent, stars)\n",
    "    print()\n",
    "\n",
    "print(\"----\")\n",
    "f(0, 0)\n",
    "print(\"----\")\n",
    "f(0, 1)\n",
    "print(\"----\")\n",
    "f(0, 2)\n",
    "print(\"----\")\n",
    "f(0, 4)"
   ]
  },
  {
   "cell_type": "code",
   "execution_count": null,
   "id": "19a029f1-d5bd-46f0-aba7-05f193d1c510",
   "metadata": {},
   "outputs": [],
   "source": []
  }
 ],
 "metadata": {
  "kernelspec": {
   "display_name": "Python 3 (ipykernel)",
   "language": "python",
   "name": "python3"
  },
  "language_info": {
   "codemirror_mode": {
    "name": "ipython",
    "version": 3
   },
   "file_extension": ".py",
   "mimetype": "text/x-python",
   "name": "python",
   "nbconvert_exporter": "python",
   "pygments_lexer": "ipython3",
   "version": "3.11.5"
  }
 },
 "nbformat": 4,
 "nbformat_minor": 5
}
