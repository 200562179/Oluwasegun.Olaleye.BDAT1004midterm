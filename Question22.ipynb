{
 "cells": [
  {
   "cell_type": "code",
   "execution_count": null,
   "id": "48ab5923-39ff-4032-84bd-a94985835d55",
   "metadata": {},
   "outputs": [],
   "source": [
    "Question 22\n",
    "\n",
    "+---------------+---------+ | Column Name | Type | +---------------+---------+ | id | int | | recordDate | date | | temperature | int | +---------------+---------+\n",
    "\n",
    "id is the column with unique values for this table. This table contains information about the temperature on a certain day.\n",
    "\n",
    "Write a solution to find all dates' Id with higher temperatures compared to its previous dates (yesterday).\n",
    "\n",
    "Return the result table in any order.\n",
    "\n",
    "Please use the following input Weather table for your solution. To receive full marks you will need to create the database, create the table, insert the data below and execute the SQL query.\n",
    "\n",
    "Input: Weather table:\n",
    "\n",
    "+----+------------+-------------+ | id | recordDate | temperature | +----+------------+-------------+ | 1 | 2015-01-01 | 10 | | 2 | 2015-01-02 | 25 | | 3 | 2015-01-03 | 20 | | 4 | 2015-01-04 | 30 | +----+------------+-------------+\n",
    "\n",
    "Output: +----+ | id | +----+ | 2 | | 4 | +----+\n",
    "\n",
    "Explanation: In 2015-01-02, the temperature was higher than the previous day (10 -> 25). In 2015-01-04, the temperature was higher than the previous day (20 -> 30)."
   ]
  },
  {
   "cell_type": "code",
   "execution_count": null,
   "id": "422bb080-2c4d-430c-9ab4-2b70061f5fdf",
   "metadata": {},
   "outputs": [],
   "source": [
    "ANSWER :"
   ]
  },
  {
   "cell_type": "code",
   "execution_count": 10,
   "id": "61bb54d9-8a5c-461c-8868-2b93341dff5f",
   "metadata": {},
   "outputs": [
    {
     "name": "stdout",
     "output_type": "stream",
     "text": [
      "(2,)\n",
      "(4,)\n"
     ]
    }
   ],
   "source": [
    "import sqlite3\n",
    "\n",
    "conn = sqlite3.connect('midterm_practice.db')\n",
    "\n",
    "get_database = conn.cursor()\n",
    "\n",
    "create_table_query = '''\n",
    "CREATE TABLE Weather_data (\n",
    "    id INTEGER PRIMARY KEY,\n",
    "    recordDate DATE,\n",
    "    temperature INTEGER\n",
    ");\n",
    "'''\n",
    "\n",
    "insert_queries = [\n",
    "    \"INSERT INTO Weather_data VALUES (1, '2015-01-01', 10);\",\n",
    "    \"INSERT INTO Weather_data VALUES (2, '2015-01-02', 25);\",\n",
    "    \"INSERT INTO Weather_data VALUES (3, '2015-01-03', 20);\",\n",
    "    \"INSERT INTO Weather_data VALUES (4, '2015-01-04', 30);\"\n",
    "]\n",
    "\n",
    "select_query = '''\n",
    "SELECT t1.id\n",
    "FROM Weather_data t1\n",
    "JOIN Weather_data t2 ON t1.id = t2.id + 1\n",
    "WHERE t1.temperature > t2.temperature;\n",
    "'''\n",
    "\n",
    "get_database.executescript(create_table_query)\n",
    "for insert_query in insert_queries:\n",
    "    get_database.execute(insert_query)\n",
    "\n",
    "get_database.execute(select_query)\n",
    "get_results = get_database.fetchall()\n",
    "\n",
    "for row in get_results:\n",
    "    print(row)\n",
    "\n",
    "conn.commit()\n",
    "conn.close()\n"
   ]
  },
  {
   "cell_type": "code",
   "execution_count": null,
   "id": "6dd41fd1-66bd-47d0-8431-2339f099621f",
   "metadata": {},
   "outputs": [],
   "source": []
  }
 ],
 "metadata": {
  "kernelspec": {
   "display_name": "Python 3 (ipykernel)",
   "language": "python",
   "name": "python3"
  },
  "language_info": {
   "codemirror_mode": {
    "name": "ipython",
    "version": 3
   },
   "file_extension": ".py",
   "mimetype": "text/x-python",
   "name": "python",
   "nbconvert_exporter": "python",
   "pygments_lexer": "ipython3",
   "version": "3.11.5"
  }
 },
 "nbformat": 4,
 "nbformat_minor": 5
}
